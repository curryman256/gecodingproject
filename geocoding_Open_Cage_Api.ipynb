{
 "cells": [
  {
   "cell_type": "code",
   "execution_count": null,
   "id": "cd261aab-8b5d-4c12-9486-72e31b692b09",
   "metadata": {},
   "outputs": [],
   "source": [
    "#Importing Libraries\n",
    "import time                     #time: Used to add delays (e.g., to handle rate limits or retries).\n",
    "\n",
    "import pandas as pd        #pandas: Used to work with CSV files and DataFrames.\n",
    "\n",
    "\n",
    "from opencage.geocoder import OpenCageGeocode    #opencage.geocoder.OpenCageGeocode: Used to interact with the OpenCage Geocoding API.\n"
   ]
  },
  {
   "cell_type": "code",
   "execution_count": null,
   "id": "2f871deb-f10d-41b9-b802-5e1a246352ba",
   "metadata": {},
   "outputs": [],
   "source": [
    "# Set Open Cage API Key\n",
    "OPENCAGE_API_KEY = \"0bd1b9d48d474c349aac94318f77eccb\"                    # OPENCAGE_API_KEY\n",
    "geocoder = OpenCageGeocode(OPENCAGE_API_KEY)\n",
    "                                                                          \n",
    "#geocoder: Initializes the OpenCage Geocoder with  API key."
   ]
  },
  {
   "cell_type": "code",
   "execution_count": null,
   "id": "e93ca376-a291-465f-80d1-da7e305aab96",
   "metadata": {},
   "outputs": [],
   "source": [
    "###section1###\n",
    "\n",
    "##Geocoding Function with Retries\n",
    "#Purpose: This function takes an address and returns its latitude and longitude using the OpenCage Geocoder.\n",
    "\n",
    "def get_lat_lon(address, max_retries=3):\n",
    "    \"\"\"Fetch latitude and longitude using OpenCage Geocoder with retries.\"\"\"\n",
    "    for attempt in range(max_retries):\n",
    "        try:\n",
    "            result = geocoder.geocode(address)\n",
    "            if result:\n",
    "                return result[0]['geometry']['lat'], result[0]['geometry']['lng']\n",
    "        except Exception as e:\n",
    "            print(f\"Error on attempt {attempt + 1} for {address}: {e}\")\n",
    "            time.sleep(5)  # Delay to handle rate limits\n",
    "    return None, None  # Return None if all retries fail\n",
    "\n",
    "# Load the dataset\n",
    "df = pd.read_csv(\"C:/Users/one33/geocoded_addresses_updated.csv\")\n",
    "\n"
   ]
  },
  {
   "cell_type": "code",
   "execution_count": null,
   "id": "ece81076-0239-4827-bc6c-110d024b1789",
   "metadata": {},
   "outputs": [
    {
     "name": "stdout",
     "output_type": "stream",
     "text": [
      "✅ Geocoding complete! Updated file saved as: geocoded_addresses_opencage.csv\n"
     ]
    }
   ],
   "source": [
    "###section2###\n",
    "\n",
    "# Geocode addresses with missing Latitude/Longitude\n",
    "#Purpose: Iterates through each row in the DataFrame and geocodes addresses that are missing latitude or longitude.\n",
    "\n",
    "for index, row in df.iterrows():\n",
    "    if pd.isnull(row[\"Latitude\"]) or pd.isnull(row[\"Longitude\"]):\n",
    "        lat, lon = get_lat_lon(row[\"Full_Address\"])\n",
    "        df.at[index, \"Latitude\"] = lat\n",
    "        df.at[index, \"Longitude\"] = lon\n",
    "\n",
    "# Save the updated DataFrame\n",
    "updated_file = \"geocoded_addresses_opencage.csv\"\n",
    "df.to_csv(updated_file, index=False)\n",
    "\n",
    "print(f\"✅ Geocoding complete! Updated file saved as: {updated_file}\")"
   ]
  },
  {
   "cell_type": "code",
   "execution_count": 2,
   "id": "77ee042f-0440-4f68-9a04-bca3ee1de49d",
   "metadata": {},
   "outputs": [
    {
     "data": {
      "text/html": [
       "<div>\n",
       "<style scoped>\n",
       "    .dataframe tbody tr th:only-of-type {\n",
       "        vertical-align: middle;\n",
       "    }\n",
       "\n",
       "    .dataframe tbody tr th {\n",
       "        vertical-align: top;\n",
       "    }\n",
       "\n",
       "    .dataframe thead th {\n",
       "        text-align: right;\n",
       "    }\n",
       "</style>\n",
       "<table border=\"1\" class=\"dataframe\">\n",
       "  <thead>\n",
       "    <tr style=\"text-align: right;\">\n",
       "      <th></th>\n",
       "      <th>Address</th>\n",
       "      <th>City</th>\n",
       "      <th>State</th>\n",
       "      <th>PostalCode</th>\n",
       "      <th>Full_Address</th>\n",
       "      <th>Latitude</th>\n",
       "      <th>Longitude</th>\n",
       "    </tr>\n",
       "  </thead>\n",
       "  <tbody>\n",
       "    <tr>\n",
       "      <th>0</th>\n",
       "      <td>123 Main St</td>\n",
       "      <td>New York</td>\n",
       "      <td>NY</td>\n",
       "      <td>10001</td>\n",
       "      <td>123 Main St, New York, NY 10001</td>\n",
       "      <td>41.015495</td>\n",
       "      <td>-73.874774</td>\n",
       "    </tr>\n",
       "    <tr>\n",
       "      <th>1</th>\n",
       "      <td>456 Elm Street</td>\n",
       "      <td>Los Angeles</td>\n",
       "      <td>CA</td>\n",
       "      <td>90001</td>\n",
       "      <td>456 Elm Street, Los Angeles, CA 90001</td>\n",
       "      <td>33.984760</td>\n",
       "      <td>-118.118696</td>\n",
       "    </tr>\n",
       "    <tr>\n",
       "      <th>2</th>\n",
       "      <td>789 Oak Ave</td>\n",
       "      <td>Chicago</td>\n",
       "      <td>IL</td>\n",
       "      <td>60601</td>\n",
       "      <td>789 Oak Ave, Chicago, IL 60601</td>\n",
       "      <td>41.696293</td>\n",
       "      <td>-87.775373</td>\n",
       "    </tr>\n",
       "    <tr>\n",
       "      <th>3</th>\n",
       "      <td>101 Pine Rd</td>\n",
       "      <td>Houston</td>\n",
       "      <td>TX</td>\n",
       "      <td>77001</td>\n",
       "      <td>101 Pine Rd, Houston, TX 77001</td>\n",
       "      <td>31.486952</td>\n",
       "      <td>-95.478965</td>\n",
       "    </tr>\n",
       "    <tr>\n",
       "      <th>4</th>\n",
       "      <td>202 Maple Blvd</td>\n",
       "      <td>Phoenix</td>\n",
       "      <td>AZ</td>\n",
       "      <td>85001</td>\n",
       "      <td>202 Maple Blvd, Phoenix, AZ 85001</td>\n",
       "      <td>33.659904</td>\n",
       "      <td>-112.105369</td>\n",
       "    </tr>\n",
       "  </tbody>\n",
       "</table>\n",
       "</div>"
      ],
      "text/plain": [
       "          Address         City State  PostalCode  \\\n",
       "0     123 Main St     New York    NY       10001   \n",
       "1  456 Elm Street  Los Angeles    CA       90001   \n",
       "2     789 Oak Ave      Chicago    IL       60601   \n",
       "3     101 Pine Rd      Houston    TX       77001   \n",
       "4  202 Maple Blvd      Phoenix    AZ       85001   \n",
       "\n",
       "                            Full_Address   Latitude   Longitude  \n",
       "0        123 Main St, New York, NY 10001  41.015495  -73.874774  \n",
       "1  456 Elm Street, Los Angeles, CA 90001  33.984760 -118.118696  \n",
       "2         789 Oak Ave, Chicago, IL 60601  41.696293  -87.775373  \n",
       "3         101 Pine Rd, Houston, TX 77001  31.486952  -95.478965  \n",
       "4      202 Maple Blvd, Phoenix, AZ 85001  33.659904 -112.105369  "
      ]
     },
     "execution_count": 2,
     "metadata": {},
     "output_type": "execute_result"
    }
   ],
   "source": [
    "df.head()"
   ]
  },
  {
   "cell_type": "code",
   "execution_count": 4,
   "id": "991a17b6-6aac-4cb2-8ff6-dadcdd2ddda1",
   "metadata": {},
   "outputs": [
    {
     "data": {
      "text/plain": [
       "Address         0\n",
       "City            0\n",
       "State           0\n",
       "PostalCode      0\n",
       "Full_Address    0\n",
       "Latitude        0\n",
       "Longitude       0\n",
       "dtype: int64"
      ]
     },
     "execution_count": 4,
     "metadata": {},
     "output_type": "execute_result"
    }
   ],
   "source": [
    "df.isnull().sum()"
   ]
  },
  {
   "cell_type": "code",
   "execution_count": 5,
   "id": "0d61a586-4ab6-4bb6-842f-703a0d0e790a",
   "metadata": {},
   "outputs": [
    {
     "name": "stdout",
     "output_type": "stream",
     "text": [
      "✅ Map generated successfully! Open: geocoded_map.html\n"
     ]
    }
   ],
   "source": [
    "###section3###\n",
    "\n",
    "\n",
    "import folium\n",
    "import pandas as pd\n",
    "\n",
    "# Load the geocoded dataset\n",
    "df = pd.read_csv(\"geocoded_addresses_opencage.csv\")\n",
    "\n",
    "# Set default map center (first valid location)\n",
    "valid_locations = df.dropna(subset=[\"Latitude\", \"Longitude\"])\n",
    "if not valid_locations.empty:\n",
    "    center_lat = valid_locations.iloc[0][\"Latitude\"]\n",
    "    center_lon = valid_locations.iloc[0][\"Longitude\"]\n",
    "else:\n",
    "    raise ValueError(\"No valid geocoded locations found.\")\n",
    "\n",
    "# Create the map\n",
    "m = folium.Map(location=[center_lat, center_lon], zoom_start=10)\n",
    "\n",
    "# Add markers for each location\n",
    "for _, row in valid_locations.iterrows():\n",
    "    folium.Marker(\n",
    "        location=[row[\"Latitude\"], row[\"Longitude\"]],\n",
    "        popup=row[\"Full_Address\"],\n",
    "        icon=folium.Icon(color=\"blue\", icon=\"info-sign\"),\n",
    "    ).add_to(m)\n",
    "\n",
    "# Save the interactive map\n",
    "map_file = \"geocoded_map.html\"\n",
    "m.save(map_file)\n",
    "\n",
    "print(f\"✅ Map generated successfully! Open: {map_file}\")\n",
    "\n"
   ]
  },
  {
   "cell_type": "code",
   "execution_count": 10,
   "id": "1f239ad1-be2f-41c1-aabc-3e910d813575",
   "metadata": {},
   "outputs": [],
   "source": [
    "\n",
    "##section4##\n",
    "\n",
    "##creating a function again to get the correct address.\n",
    "\n",
    "import time\n",
    "import folium\n",
    "import pandas as pd\n",
    "from opencage.geocoder import OpenCageGeocode\n",
    "\n",
    "# Set your OpenCage API Key\n",
    "OPENCAGE_API_KEY = \"0bd1b9d48d474c349aac94318f77eccb\"  # Replace with your API key\n",
    "geocoder = OpenCageGeocode(OPENCAGE_API_KEY)\n",
    "\n",
    "def retry_geocode(address, max_retries=3):\n",
    "    \"\"\"Fetch latitude and longitude using OpenCage with retries.\"\"\"\n",
    "    for attempt in range(max_retries):\n",
    "        try:\n",
    "            result = geocoder.geocode(address)\n",
    "            if result:\n",
    "                return result[0]['geometry']['lat'], result[0]['geometry']['lng']\n",
    "        except Exception as e:\n",
    "            print(f\"Error on attempt {attempt + 1} for {address}: {e}\")\n",
    "            time.sleep(5)  # Handle rate limits\n",
    "    return None, None  # Return None if all retries fail\n",
    "\n",
    "# Load the geocoded dataset\n",
    "df = pd.read_csv(\"geocoded_addresses_opencage.csv\")"
   ]
  },
  {
   "cell_type": "code",
   "execution_count": 11,
   "id": "24fcea3b-d0a3-4327-ab8d-98ebf2836d11",
   "metadata": {},
   "outputs": [
    {
     "name": "stdout",
     "output_type": "stream",
     "text": [
      "✅ Corrected: 999 Juniper Rd, Boston, MA 2108 → 999 Juniper Rd, Boston, MA 02108\n",
      "✅ Corrected: 5600 Pinecone Ave, Jersey City, NJ 7302 → 5600 Pinecone Ave, Jersey City, NJ 07302\n",
      "✅ Corrected: 5100 Fir Ave, Newark, NJ 7101 → 5100 Fir Ave, Newark, NJ 07101\n",
      "✅ Updated map saved as geocoded_map.html\n"
     ]
    }
   ],
   "source": [
    "\n",
    "\n",
    "###section5###\n",
    "\n",
    "# List of incorrect addresses with their correct versions\n",
    "\n",
    "addresses_to_fix = {\n",
    "    \"999 Juniper Rd, Boston, MA 2108\": \"999 Juniper Rd, Boston, MA 02108\",\n",
    "    \"5600 Pinecone Ave, Jersey City, NJ 7302\": \"5600 Pinecone Ave, Jersey City, NJ 07302\",\n",
    "    \"5100 Fir Ave, Newark, NJ 7101\": \"5100 Fir Ave, Newark, NJ 07101\"\n",
    "}\n",
    "\n",
    "# Correct each address\n",
    "for wrong_address, correct_address in addresses_to_fix.items():\n",
    "    correct_lat, correct_lon = retry_geocode(correct_address)\n",
    "    if correct_lat is not None and correct_lon is not None:\n",
    "        df.loc[df['Full_Address'] == wrong_address, [\"Latitude\", \"Longitude\"]] = [correct_lat, correct_lon]\n",
    "        print(f\"✅ Corrected: {wrong_address} → {correct_address}\")\n",
    "\n",
    "# Set default map center (first valid location)\n",
    "valid_locations = df.dropna(subset=[\"Latitude\", \"Longitude\"])\n",
    "if not valid_locations.empty:\n",
    "    center_lat = valid_locations.iloc[0][\"Latitude\"]\n",
    "    center_lon = valid_locations.iloc[0][\"Longitude\"]\n",
    "else:\n",
    "    raise ValueError(\"No valid geocoded locations found.\")\n",
    "\n",
    "# Create the updated map\n",
    "m = folium.Map(location=[center_lat, center_lon], zoom_start=10)\n",
    "\n",
    "# Add markers for each location\n",
    "for _, row in valid_locations.iterrows():\n",
    "    folium.Marker(\n",
    "        location=[row[\"Latitude\"], row[\"Longitude\"]],\n",
    "        popup=row[\"Full_Address\"],\n",
    "        icon=folium.Icon(color=\"blue\", icon=\"info-sign\"),\n",
    "    ).add_to(m)\n",
    "\n",
    "# Save the updated map\n",
    "updated_map_file = \"geocoded_map.html\"\n",
    "m.save(updated_map_file)\n",
    "\n",
    "print(f\"✅ Updated map saved as {updated_map_file}\")"
   ]
  },
  {
   "cell_type": "code",
   "execution_count": null,
   "id": "34157ca0-d20f-4018-a98b-51118f1f2432",
   "metadata": {},
   "outputs": [],
   "source": []
  }
 ],
 "metadata": {
  "kernelspec": {
   "display_name": "Python 3 (ipykernel)",
   "language": "python",
   "name": "python3"
  },
  "language_info": {
   "codemirror_mode": {
    "name": "ipython",
    "version": 3
   },
   "file_extension": ".py",
   "mimetype": "text/x-python",
   "name": "python",
   "nbconvert_exporter": "python",
   "pygments_lexer": "ipython3",
   "version": "3.12.7"
  }
 },
 "nbformat": 4,
 "nbformat_minor": 5
}
